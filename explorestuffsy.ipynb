{
 "cells": [
  {
   "cell_type": "code",
   "execution_count": 7,
   "metadata": {},
   "outputs": [
    {
     "data": {
      "text/plain": [
       "46"
      ]
     },
     "execution_count": 7,
     "metadata": {},
     "output_type": "execute_result"
    }
   ],
   "source": [
    "import random\n",
    "random.randint(1, 100)"
   ]
  },
  {
   "cell_type": "code",
   "execution_count": 8,
   "metadata": {},
   "outputs": [
    {
     "name": "stdout",
     "output_type": "stream",
     "text": [
      "1800.0\n",
      "1620.0\n",
      "1458.0\n",
      "1312.2\n",
      "1180.98\n",
      "1062.882\n",
      "956.5938000000001\n"
     ]
    }
   ],
   "source": [
    "costs = 2000\n",
    "loss = 0.10\n",
    "\n",
    "def calculateValueAfterloss(price):    \n",
    "    lossValueInpercentage = price * loss\n",
    "    lossValue = price - lossValueInpercentage\n",
    "    print(lossValue)\n",
    "    return lossValue\n",
    "           \n",
    "while costs > 1000 :\n",
    "      costs = calculateValueAfterloss(costs)\n"
   ]
  },
  {
   "cell_type": "code",
   "execution_count": 9,
   "metadata": {},
   "outputs": [
    {
     "name": "stdout",
     "output_type": "stream",
     "text": [
      "In year 1, the cost of the bike was 1800.0\n",
      "In year 2, the cost of the bike was 1620.0\n",
      "In year 3, the cost of the bike was 1458.0\n",
      "In year 4, the cost of the bike was 1312.2\n",
      "In year 5, the cost of the bike was 1180.98\n",
      "In year 6, the cost of the bike was 1062.882\n",
      "In year 7, the cost of the bike was 956.5938000000001\n"
     ]
    }
   ],
   "source": [
    "def calculateBikeDepreciation(startingCost):\n",
    "    year = 0\n",
    "    cost = startingCost\n",
    "    while cost > 1000:\n",
    "        year += 1\n",
    "        cost = cost - (cost * 0.1)\n",
    "        print(\"In year \" + str(year) + \", the cost of the bike was \" + str(cost))\n",
    "\n",
    "calculateBikeDepreciation(int(input(\"Enter the starting cost of the bike: \")))\n",
    "\n"
   ]
  },
  {
   "cell_type": "code",
   "execution_count": 10,
   "metadata": {},
   "outputs": [
    {
     "name": "stdout",
     "output_type": "stream",
     "text": [
      "Your favorite meal is:  small chops jollof rice moshushu plantain with a glass of quacktails\n"
     ]
    }
   ],
   "source": [
    "def concatMenu():\n",
    "    starter = str(input(\"Enter starter: \"))\n",
    "    main = str(input(\"Enter main: \"))\n",
    "    dessert = str(input(\"Enter dessert: \"))\n",
    "    drink = str(input(\"Enter drink: \"))\n",
    "    print('Your favorite meal is: ', starter,\n",
    "          main, dessert, 'with a glass of', drink)\n",
    "\n",
    "concatMenu()\n",
    "\n"
   ]
  },
  {
   "cell_type": "code",
   "execution_count": 12,
   "metadata": {},
   "outputs": [
    {
     "name": "stdout",
     "output_type": "stream",
     "text": [
      "Your number is:  17\n"
     ]
    }
   ],
   "source": [
    "def performOperation(number1, number2):\n",
    "    operation = str(input(\n",
    "        \"Enter an operation to perform (add, subtract, multiply, divide, power): \"))\n",
    "    if (operation == \"add\"):\n",
    "        return number1 + number2\n",
    "    elif (operation == \"subtract\"):\n",
    "        return number1 - number2\n",
    "    elif (operation == \"multiply\"):\n",
    "        return number1 * number2\n",
    "    elif (operation == \"divide\"):\n",
    "        return number1 / number2\n",
    "    elif (operation == \"power\"):\n",
    "        return number1 ** number2\n",
    "    else:\n",
    "        print(\"Invalid operation\")\n",
    "\n",
    "print('Your number is: ', performOperation(int(input(\"Enter the first number: \")), int(\n",
    "    input(\"Enter the second number: \"))))\n",
    "\n"
   ]
  }
 ],
 "metadata": {
  "interpreter": {
   "hash": "6608403ebea36c70ea2d5eba7aae42c1522d3088efc3cb760217c2bcc441430d"
  },
  "kernelspec": {
   "display_name": "Python 3.9.9 64-bit (windows store)",
   "language": "python",
   "name": "python3"
  },
  "language_info": {
   "codemirror_mode": {
    "name": "ipython",
    "version": 3
   },
   "file_extension": ".py",
   "mimetype": "text/x-python",
   "name": "python",
   "nbconvert_exporter": "python",
   "pygments_lexer": "ipython3",
   "version": "3.9.9"
  },
  "orig_nbformat": 4
 },
 "nbformat": 4,
 "nbformat_minor": 2
}
