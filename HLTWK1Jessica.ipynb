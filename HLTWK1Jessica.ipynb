{
 "cells": [
  {
   "cell_type": "code",
   "execution_count": 3,
   "metadata": {},
   "outputs": [
    {
     "name": "stdout",
     "output_type": "stream",
     "text": [
      "Well Jessica i am thinking of a number between 1 and 10\n",
      "Wrong, better luck next time\n"
     ]
    }
   ],
   "source": [
    "\n",
    "import random\n",
    "\n",
    "myName = input(\"Hello! What is your name?\")\n",
    "number = random.randint(1, 10)\n",
    "print(\"Well\" , myName ,\"i am thinking of a number between 1 and 10\")\n",
    "guess = int(input(\"take a guess:\"))\n",
    "\n",
    "if guess == number:\n",
    "    print(\"Good job \" + myName + \"! You guessed my number\")\n",
    "else:\n",
    "    print(\"Wrong, better luck next time\")\n"
   ]
  },
  {
   "cell_type": "code",
   "execution_count": 9,
   "metadata": {},
   "outputs": [
    {
     "name": "stdout",
     "output_type": "stream",
     "text": [
      "why did the chicken cross the road? To bock traffic.\n"
     ]
    }
   ],
   "source": [
    "favNum = int(input(\"Hello! what is your favorite number between 1 and 100?\"))\n",
    "joke1 = \"why did the chicken cross the road? To bock traffic.\"\n",
    "joke2 = \"Never trust atoms; they make up everything\"\n",
    "joke3 = \"Russian dolls are so full of themselves\"\n",
    "joke4 = \"blunt pencils are really pointless\"\n",
    "\n",
    "if favNum < 26:\n",
    "    print(joke1)\n",
    "elif favNum < 51:\n",
    "    print(joke2)\n",
    "elif favNum < 76:\n",
    "    print(joke3)\n",
    "elif favNum < 101:\n",
    "    print(joke4)\n",
    "else:\n",
    "    print(\"hahahaha\")\n",
    "\n"
   ]
  },
  {
   "cell_type": "code",
   "execution_count": 10,
   "metadata": {},
   "outputs": [
    {
     "name": "stdout",
     "output_type": "stream",
     "text": [
      "1800.0\n",
      "1620.0\n",
      "1458.0\n",
      "1312.2\n",
      "1180.98\n",
      "1062.882\n",
      "956.5938000000001\n"
     ]
    },
    {
     "data": {
      "text/plain": [
       "1000"
      ]
     },
     "execution_count": 10,
     "metadata": {},
     "output_type": "execute_result"
    }
   ],
   "source": [
    "costs = 2000\n",
    "loss = 0.10\n",
    "def calculateValueAfterloss(price): \n",
    "     if(price > 1000): \n",
    "        lossValue = price - (price * loss)\n",
    "        print(lossValue)\n",
    "        result = calculateValueAfterloss(lossValue)\n",
    "    \n",
    "     else:\n",
    "         result = 1000\n",
    "     return result\n",
    "calculateValueAfterloss(costs)\n"
   ]
  },
  {
   "cell_type": "code",
   "execution_count": 12,
   "metadata": {},
   "outputs": [
    {
     "name": "stdout",
     "output_type": "stream",
     "text": [
      "Your favorite meal is:  small chops jollof rice ojojo with a glass of quacktails\n"
     ]
    }
   ],
   "source": [
    "def concatMenu():\n",
    "    starter = str(input(\"Enter starter: \"))\n",
    "    main = str(input(\"Enter main: \"))\n",
    "    dessert = str(input(\"Enter dessert: \"))\n",
    "    drink = str(input(\"Enter drink: \"))\n",
    "    \n",
    "    print('Your favorite meal is: ', starter,\n",
    "          main, dessert, 'with a glass of', drink)\n",
    "\n",
    "concatMenu()\n"
   ]
  },
  {
   "cell_type": "code",
   "execution_count": 21,
   "metadata": {},
   "outputs": [
    {
     "name": "stdout",
     "output_type": "stream",
     "text": [
      "Invalid operation\n"
     ]
    }
   ],
   "source": [
    "def performOperation(number1, number2, operation):\n",
    "    \n",
    "   \n",
    "    if (operation == \"a\"):\n",
    "        return number1 + number2\n",
    "    elif (operation == \"b\"):\n",
    "        return number1 - number2\n",
    "    elif (operation == \"c\"):\n",
    "        return number1 * number2\n",
    "    elif (operation == \"d\"):\n",
    "        return number1 / number2\n",
    "    elif (operation == \"e\"):\n",
    "        return number1 ** number2\n",
    "    else:\n",
    "        print(\"Invalid operation\")\n",
    " \n",
    "operation = str(input(\n",
    "        \"Enter an operation to perform ('a' for add', 'b' for subtract', 'c' for multiply, 'd' for divide, 'e' for power): \"))\n",
    "input1 = int(input(\"Enter the first number: \"))\n",
    "input2 = int(input(\"Enter the second number: \"))\n",
    "\n",
    "result = performOperation(input1, input2, operation)\n",
    "if result is not None:\n",
    "    print('Your result is:', result)\n",
    "\n",
    "\n"
   ]
  },
  {
   "cell_type": "code",
   "execution_count": 13,
   "metadata": {},
   "outputs": [
    {
     "name": "stdout",
     "output_type": "stream",
     "text": [
      "In year 1, the cost of the bike was 1800.0\n",
      "In year 2, the cost of the bike was 1620.0\n",
      "In year 3, the cost of the bike was 1458.0\n",
      "In year 4, the cost of the bike was 1312.2\n",
      "In year 5, the cost of the bike was 1180.98\n",
      "In year 6, the cost of the bike was 1062.882\n",
      "In year 7, the cost of the bike was 956.5938000000001\n"
     ]
    }
   ],
   "source": [
    "def calculateBikeDepreciation(startingCost):\n",
    "    year = 0\n",
    "    cost = startingCost\n",
    "    while cost > 1000:\n",
    "        year += 1\n",
    "        cost = cost - (cost * 0.1)\n",
    "        print(\"In year \" + str(year) + \", the cost of the bike was \" + str(cost))\n",
    "\n",
    "calculateBikeDepreciation(int(input(\"Enter the starting cost of the bike: \")))\n",
    "\n",
    "\n"
   ]
  }
 ],
 "metadata": {
  "interpreter": {
   "hash": "6608403ebea36c70ea2d5eba7aae42c1522d3088efc3cb760217c2bcc441430d"
  },
  "kernelspec": {
   "display_name": "Python 3.9.9 64-bit (windows store)",
   "language": "python",
   "name": "python3"
  },
  "language_info": {
   "codemirror_mode": {
    "name": "ipython",
    "version": 3
   },
   "file_extension": ".py",
   "mimetype": "text/x-python",
   "name": "python",
   "nbconvert_exporter": "python",
   "pygments_lexer": "ipython3",
   "version": "3.9.9"
  },
  "orig_nbformat": 4
 },
 "nbformat": 4,
 "nbformat_minor": 2
}
